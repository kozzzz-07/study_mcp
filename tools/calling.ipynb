{
 "cells": [
  {
   "cell_type": "markdown",
   "id": "fed9e2c5",
   "metadata": {},
   "source": [
    "低レベルなLLMの動作を確認する"
   ]
  },
  {
   "cell_type": "code",
   "execution_count": 12,
   "id": "5cd3c4c3",
   "metadata": {},
   "outputs": [
    {
     "data": {
      "text/plain": [
       "True"
      ]
     },
     "execution_count": 12,
     "metadata": {},
     "output_type": "execute_result"
    }
   ],
   "source": [
    "import os\n",
    "from dotenv import load_dotenv\n",
    "from typing import Any, Dict\n",
    "from google import genai\n",
    "from google.genai import types\n",
    "import requests\n",
    "\n",
    "load_dotenv()"
   ]
  },
  {
   "cell_type": "code",
   "execution_count": null,
   "id": "6a816aab",
   "metadata": {},
   "outputs": [],
   "source": [
    "api_key = os.getenv(\"GEMINI_API_KEY\")\n",
    "if not api_key:\n",
    "    raise ValueError(\"GEMINI_API_KEY environment variable is not set.\")\n",
    "\n",
    "client = genai.Client(api_key=api_key)"
   ]
  },
  {
   "cell_type": "code",
   "execution_count": null,
   "id": "365608b5",
   "metadata": {},
   "outputs": [
    {
     "name": "stdout",
     "output_type": "stream",
     "text": [
      "Unfortunately, I cannot give you the exact, real-time price of Bitcoin. Cryptocurrency prices are incredibly volatile and change constantly, even within seconds!\n",
      "\n",
      "However, I can tell you how to find the current price:\n",
      "\n",
      "*   **Use a Cryptocurrency Exchange:** Major exchanges like Coinbase, Binance, Kraken, and Gemini all display real-time Bitcoin prices.\n",
      "*   **Use a Financial Website:** Reputable financial websites such as Google Finance, Yahoo Finance, Bloomberg, and MarketWatch have cryptocurrency sections that provide up-to-date pricing.\n",
      "*   **Use a Cryptocurrency Tracker:** Websites and apps like CoinMarketCap and CoinGecko track the prices of various cryptocurrencies across multiple exchanges.\n",
      "\n",
      "**Please remember:** Cryptocurrency investments are risky. Only invest what you can afford to lose, and do your research before making any decisions.\n"
     ]
    }
   ],
   "source": [
    "response = client.models.generate_content(\n",
    "    model=\"gemini-2.0-flash\",\n",
    "    contents=[\"What is the current price of Bitcoin?\"]\n",
    ")\n",
    "\n",
    "print(response.text)"
   ]
  },
  {
   "cell_type": "code",
   "execution_count": 5,
   "id": "978f02e5",
   "metadata": {},
   "outputs": [
    {
     "name": "stdout",
     "output_type": "stream",
     "text": [
      "candidates=[Candidate(content=Content(parts=[Part(video_metadata=None, thought=None, inline_data=None, code_execution_result=None, executable_code=None, file_data=None, function_call=None, function_response=None, text=\"Unfortunately, I cannot give you the exact, real-time price of Bitcoin. The price of Bitcoin fluctuates very rapidly, changing every second.\\n\\nHowever, here are the best ways to get the current price:\\n\\n*   **Major Cryptocurrency Exchanges:** Check sites like Coinbase, Binance, Kraken, Gemini, etc. These exchanges are where Bitcoin is actively traded.\\n*   **Financial Websites:** Reputable financial sites like Google Finance, Yahoo Finance, Bloomberg, and MarketWatch will have up-to-date cryptocurrency prices.\\n*   **Cryptocurrency Tracking Websites:** CoinMarketCap and CoinGecko are dedicated to tracking cryptocurrency prices and provide a wealth of information.\\n\\nWhen you look at the price, make sure the source is reliable and that you understand the currency it's being quoted in (e.g., USD, EUR).\\n\")], role='model'), citation_metadata=None, finish_message=None, token_count=None, finish_reason=<FinishReason.STOP: 'STOP'>, url_context_metadata=None, avg_logprobs=-0.2773063210880055, grounding_metadata=None, index=None, logprobs_result=None, safety_ratings=None)] create_time=None response_id=None model_version='gemini-2.0-flash' prompt_feedback=None usage_metadata=GenerateContentResponseUsageMetadata(cache_tokens_details=None, cached_content_token_count=None, candidates_token_count=170, candidates_tokens_details=[ModalityTokenCount(modality=<MediaModality.TEXT: 'TEXT'>, token_count=170)], prompt_token_count=8, prompt_tokens_details=[ModalityTokenCount(modality=<MediaModality.TEXT: 'TEXT'>, token_count=8)], thoughts_token_count=None, tool_use_prompt_token_count=None, tool_use_prompt_tokens_details=None, total_token_count=178, traffic_type=None) automatic_function_calling_history=[] parsed=None\n"
     ]
    }
   ],
   "source": [
    "print(response)"
   ]
  },
  {
   "cell_type": "code",
   "execution_count": 8,
   "id": "825a34ff",
   "metadata": {},
   "outputs": [
    {
     "name": "stdout",
     "output_type": "stream",
     "text": [
      "{'symbol': 'BTCUSDT', 'price': '109565.22000000'}\n"
     ]
    }
   ],
   "source": [
    "url = f\"https://api.binance.com/api/v3/ticker/price?symbol=BTCUSDT\"\n",
    "res = requests.get(url)\n",
    "data = res.json()\n",
    "print(data)"
   ]
  },
  {
   "cell_type": "code",
   "execution_count": 9,
   "id": "51320463",
   "metadata": {},
   "outputs": [],
   "source": [
    "def get_crypto_price(symbol: str) -> Dict[str, Any]:\n",
    "    url = f\"https://api.binance.com/api/v3/ticker/price?symbol={symbol}\"\n",
    "    response = requests.get(url)\n",
    "    if response.status_code == 200:\n",
    "        data = response.json()\n",
    "        return float(data['price'])\n",
    "    else:\n",
    "        return {\"error\": \"Failed to fetch data\"}"
   ]
  },
  {
   "cell_type": "code",
   "execution_count": 11,
   "id": "20cd43cf",
   "metadata": {},
   "outputs": [
    {
     "name": "stdout",
     "output_type": "stream",
     "text": [
      "BTC Price in USDT: 109361.71\n"
     ]
    }
   ],
   "source": [
    "price = get_crypto_price(\"BTCUSDT\")\n",
    "print(f\"BTC Price in USDT: {price}\")"
   ]
  },
  {
   "cell_type": "code",
   "execution_count": 21,
   "id": "332d51a6",
   "metadata": {},
   "outputs": [],
   "source": [
    "# https://ai.google.dev/gemini-api/docs/function-calling?hl=ja&example=meeting\n",
    "\n",
    "function_declarations = [{\n",
    "     \"name\": \"get_crypto_price\",\n",
    "     \"description\": \"Get cryptocurrency price in USDT from Binance\",\n",
    "     \"parameters\": {\n",
    "         \"type\": \"object\",\n",
    "         \"properties\": {\n",
    "              \"symbol\": {\n",
    "                  \"type\": \"string\",\n",
    "                  \"description\": \"The cryptocurrency trading pair symbol (e.g., BTCUSDT, ETHUSDT). \\\n",
    "                                 The symbol for Bitcoin is BTCUSDT. \\\n",
    "                                 The symbol for Ethereum is ETHUSDT.\"\n",
    "              }\n",
    "         },\n",
    "         \"required\": [\"symbol\"],\n",
    "     },\n",
    " }\n",
    "]"
   ]
  },
  {
   "cell_type": "code",
   "execution_count": 24,
   "id": "80d23945",
   "metadata": {},
   "outputs": [
    {
     "name": "stdout",
     "output_type": "stream",
     "text": [
      "candidates=[Candidate(content=Content(parts=[Part(video_metadata=None, thought=None, inline_data=None, code_execution_result=None, executable_code=None, file_data=None, function_call=FunctionCall(id=None, args={'symbol': 'BTCUSDT'}, name='get_crypto_price'), function_response=None, text=None)], role='model'), citation_metadata=None, finish_message=None, token_count=None, finish_reason=<FinishReason.STOP: 'STOP'>, url_context_metadata=None, avg_logprobs=-0.15089485049247742, grounding_metadata=None, index=None, logprobs_result=None, safety_ratings=None)] create_time=None response_id=None model_version='gemini-2.0-flash' prompt_feedback=None usage_metadata=GenerateContentResponseUsageMetadata(cache_tokens_details=None, cached_content_token_count=None, candidates_token_count=8, candidates_tokens_details=[ModalityTokenCount(modality=<MediaModality.TEXT: 'TEXT'>, token_count=8)], prompt_token_count=60, prompt_tokens_details=[ModalityTokenCount(modality=<MediaModality.TEXT: 'TEXT'>, token_count=60)], thoughts_token_count=None, tool_use_prompt_token_count=None, tool_use_prompt_tokens_details=None, total_token_count=68, traffic_type=None) automatic_function_calling_history=[] parsed=None\n",
      "Function to call: get_crypto_price\n",
      "Arguments: {'symbol': 'BTCUSDT'}\n"
     ]
    }
   ],
   "source": [
    "chat = client.chats.create(model=\"gemini-2.0-flash\")\n",
    "tools =  types.Tool(function_declarations=function_declarations)\n",
    "config = types.GenerateContentConfig(tools=[tools])\n",
    "response = chat.send_message(message=\"What is the current price of Bitcoin?\", config=config)\n",
    "\n",
    "print(response)\n",
    "# Check for a function call\n",
    "if response.candidates[0].content.parts[0].function_call:\n",
    "    function_call = response.candidates[0].content.parts[0].function_call\n",
    "    print(f\"Function to call: {function_call.name}\")\n",
    "    print(f\"Arguments: {function_call.args}\")\n",
    "    #  In a real app, you would call your function here:\n",
    "    #  result = schedule_meeting(**function_call.args)\n",
    "else:\n",
    "    print(\"No function call found in the response.\")\n",
    "    print(response.text)"
   ]
  },
  {
   "cell_type": "code",
   "execution_count": 25,
   "id": "12bccb80",
   "metadata": {},
   "outputs": [],
   "source": [
    "price = get_crypto_price(\"BTCUSDT\")"
   ]
  },
  {
   "cell_type": "code",
   "execution_count": 27,
   "id": "f5472191",
   "metadata": {},
   "outputs": [
    {
     "name": "stdout",
     "output_type": "stream",
     "text": [
      "candidates=[Candidate(content=Content(parts=[Part(video_metadata=None, thought=None, inline_data=None, code_execution_result=None, executable_code=None, file_data=None, function_call=None, function_response=None, text='Okay, the current price of Bitcoin is $109009.02.\\n')], role='model'), citation_metadata=None, finish_message=None, token_count=None, finish_reason=<FinishReason.STOP: 'STOP'>, url_context_metadata=None, avg_logprobs=-0.04839058220386505, grounding_metadata=None, index=None, logprobs_result=None, safety_ratings=None)] create_time=None response_id=None model_version='gemini-2.0-flash' prompt_feedback=None usage_metadata=GenerateContentResponseUsageMetadata(cache_tokens_details=None, cached_content_token_count=None, candidates_token_count=20, candidates_tokens_details=[ModalityTokenCount(modality=<MediaModality.TEXT: 'TEXT'>, token_count=20)], prompt_token_count=55, prompt_tokens_details=[ModalityTokenCount(modality=<MediaModality.TEXT: 'TEXT'>, token_count=55)], thoughts_token_count=None, tool_use_prompt_token_count=None, tool_use_prompt_tokens_details=None, total_token_count=75, traffic_type=None) automatic_function_calling_history=[] parsed=None\n",
      "Okay, the current price of Bitcoin is $109009.02.\n",
      "\n"
     ]
    }
   ],
   "source": [
    "final_response = chat.send_message(str(price))\n",
    "print(final_response)\n",
    "print(final_response.text)"
   ]
  }
 ],
 "metadata": {
  "kernelspec": {
   "display_name": ".venv",
   "language": "python",
   "name": "python3"
  },
  "language_info": {
   "codemirror_mode": {
    "name": "ipython",
    "version": 3
   },
   "file_extension": ".py",
   "mimetype": "text/x-python",
   "name": "python",
   "nbconvert_exporter": "python",
   "pygments_lexer": "ipython3",
   "version": "3.12.0"
  }
 },
 "nbformat": 4,
 "nbformat_minor": 5
}
